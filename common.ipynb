{
 "cells": [
  {
   "cell_type": "markdown",
   "metadata": {},
   "source": [
    "# The following cell should be removed when crestdsl is installed directly:"
   ]
  },
  {
   "cell_type": "code",
   "execution_count": 1,
   "metadata": {},
   "outputs": [],
   "source": [
    "import sys\n",
    "sys.path.append('../')"
   ]
  },
  {
   "cell_type": "code",
   "execution_count": 2,
   "metadata": {
    "scrolled": false
   },
   "outputs": [],
   "source": [
    "# make sure to not be flooded with logs\n",
    "import logging\n",
    "logging.basicConfig(level=logging.WARNING, format='%(levelname)s:%(name)s--%(message)s')  "
   ]
  },
  {
   "cell_type": "code",
   "execution_count": 3,
   "metadata": {},
   "outputs": [],
   "source": [
    "import crestdsl.model as crest"
   ]
  },
  {
   "cell_type": "code",
   "execution_count": 4,
   "metadata": {
    "code_folding": []
   },
   "outputs": [],
   "source": [
    "res_electricity = crest.Resource(\"Watt\", crest.REAL)\n",
    "res_heat_energy = crest.Resource(\"Watt\", crest.REAL)\n",
    "res_celsius = crest.Resource(\"Celsius\", crest.REAL)\n",
    "res_volume = crest.Resource(\"m^3\", crest.REAL)\n",
    "res_onoff_switch = crest.Resource(\"onOffSwitch\", [\"on\", \"off\"])\n",
    "res_four_switch = crest.Resource(\"fourSwitch\", [\"one\", \"two\", \"three\", \"off\"])\n",
    "res_time = crest.Resource(\"minutes\", crest.REAL)\n",
    "res_lux = crest.Resource(\"lux\", crest.INTEGER)\n",
    "res_integer = crest.Resource(\"integer\", crest.INTEGER)\n",
    "res_bool = crest.Resource(\"bool\", crest.BOOL)\n",
    "res_presence = crest.Resource(\"presence\", [\"detected\", \"no presence\"])\n",
    "res_onoffauto = crest.Resource(\"onOffAutoSwitch\", [\"on\", \"off\", \"auto\"])"
   ]
  },
  {
   "cell_type": "code",
   "execution_count": 5,
   "metadata": {},
   "outputs": [],
   "source": [
    "class ElectricalDevice(object):\n",
    "    electricity_in = crest.Input(res_electricity, value=0)\n",
    "    req_electricity_out = crest.Output(res_electricity, value=0)"
   ]
  },
  {
   "cell_type": "code",
   "execution_count": 6,
   "metadata": {},
   "outputs": [],
   "source": [
    "# we will create tests for each Entity\n",
    "import unittest\n",
    "\n",
    "class TestClass(unittest.TestCase):\n",
    "    @classmethod\n",
    "    def runall(cls):\n",
    "        tests = unittest.TestLoader().loadTestsFromTestCase(cls)\n",
    "        return unittest.TextTestRunner().run(tests)\n",
    "        "
   ]
  }
 ],
 "metadata": {
  "kernelspec": {
   "display_name": "Python 3",
   "language": "python",
   "name": "python3"
  },
  "language_info": {
   "codemirror_mode": {
    "name": "ipython",
    "version": 3
   },
   "file_extension": ".py",
   "mimetype": "text/x-python",
   "name": "python",
   "nbconvert_exporter": "python",
   "pygments_lexer": "ipython3",
   "version": "3.7.3"
  }
 },
 "nbformat": 4,
 "nbformat_minor": 2
}
