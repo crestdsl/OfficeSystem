{
 "cells": [
  {
   "cell_type": "code",
   "execution_count": 1,
   "metadata": {},
   "outputs": [],
   "source": [
    "import sys\n",
    "sys.path.append('../')"
   ]
  },
  {
   "cell_type": "code",
   "execution_count": 1,
   "metadata": {},
   "outputs": [],
   "source": [
    "# %%capture\n",
    "%run common.ipynb\n",
    "\n",
    "# importnb allows us to load the code from other notebooks\n",
    "# from importnb import Notebook\n",
    "# with Notebook():\n",
    "#     import OfficeAutomation.common as common  # will probably become OfficeAutomation.common"
   ]
  },
  {
   "cell_type": "code",
   "execution_count": 13,
   "metadata": {},
   "outputs": [],
   "source": [
    "import crestdsl.model as crest\n",
    "import crestdsl.simulation as crestsim\n",
    "import crestdsl.ui as ui"
   ]
  },
  {
   "cell_type": "code",
   "execution_count": 14,
   "metadata": {
    "code_folding": [
     17,
     77,
     100
    ],
    "scrolled": false
   },
   "outputs": [],
   "source": [
    "@crest.dependency(source=\"req_electricity_out\", target=\"switch_in\")\n",
    "class Lamp(ElectricalDevice, crest.Entity):\n",
    "    switch_in = crest.Input(res_onoff_switch, value=\"off\") # on/off\n",
    "    off = current = crest.State()\n",
    "    on = crest.State()\n",
    "    need_watt = crest.Local(res_electricity, value=100)\n",
    "\n",
    "    turn_on = crest.Transition(source=off, target=on, guard=(lambda self: self.switch_in.value == \"on\" and self.electricity_in.value >= self.need_watt.value))\n",
    "    turn_off = crest.Transition(source=on, target=off, guard=(lambda self: self.switch_in.value == \"off\" or self.electricity_in.value < self.need_watt.value))\n",
    "    \n",
    "    @crest.update(state=[on,off], target=\"req_electricity_out\")\n",
    "    def update_req_on_off(self, dt):\n",
    "        if self.switch_in.value == \"on\":\n",
    "            return self.need_watt.value\n",
    "        else:\n",
    "            return 0"
   ]
  },
  {
   "cell_type": "code",
   "execution_count": 15,
   "metadata": {
    "code_folding": [
     17,
     77,
     100
    ],
    "scrolled": false
   },
   "outputs": [],
   "source": [
    "class FragileLamp(Lamp, crest.Entity):\n",
    "    switch_in = crest.Input(res_onoff_switch, value=\"off\") # on/off\n",
    "    spike_timeout = crest.Local(res_time, value=0.0015)  # time unit = minutes hence 0.0015 is roughly .1 seconds\n",
    "    \n",
    "    spike = crest.State()\n",
    "    broken = crest.State()\n",
    "    \n",
    "    to_spike = crest.Transition(source=\"off\", target=spike, guard=(lambda self: self.switch_in.value == \"on\" and self.electricity_in.value >= self.need_watt.value))\n",
    "    to_broken = crest.Transition(source=spike, target=broken, guard=(lambda self: self.spike_timeout.value <= 0))\n",
    "    \n",
    " \n",
    "    @crest.update(state=spike, target=spike_timeout)\n",
    "    def reduce_spike_timeout(self, dt):\n",
    "        return self.spike_timeout.value - dt\n",
    "    \n",
    "    @crest.update(state=spike, target=\"req_electricity_out\")\n",
    "    def update_req_spike(self, dt):\n",
    "        return 1000\n",
    "\n",
    "    @crest.update(state=broken, target=\"req_electricity_out\")\n",
    "    def update_req_broken(self, dt):\n",
    "        return 0\n",
    "    \n",
    "# crest.Validator(FragileLamp()).check_all()"
   ]
  },
  {
   "cell_type": "code",
   "execution_count": 16,
   "metadata": {
    "code_folding": []
   },
   "outputs": [],
   "source": [
    "@crest.nodependencies\n",
    "class EmergencyLamp(ElectricalDevice, crest.Entity):\n",
    "    spike_timeout = crest.Local(res_time, value=0.0015)  # time unit = minutes hence 0.0015 is roughly .1 seconds\n",
    "    need_watt = crest.Local(res_electricity, value=100)\n",
    "    \n",
    "    off = current = crest.State()\n",
    "    on = crest.State()\n",
    "    spike = crest.State()\n",
    "    broken = crest.State()\n",
    "    \n",
    "    turn_on = crest.Transition(source=off, target=on, guard=(lambda self: self.electricity_in.value >= self.need_watt.value))\n",
    "    turn_off = crest.Transition(source=on, target=off, guard=(lambda self: self.electricity_in.value < self.need_watt.value))\n",
    "    \n",
    "    to_spike = crest.Transition(source=off, target=spike, guard=(lambda self: self.electricity_in.value >= self.need_watt.value))\n",
    "    to_broken = crest.Transition(source=spike, target=broken, guard=(lambda self: self.spike_timeout.value <= 0))\n",
    "    \n",
    "    @crest.update(state=spike, target=spike_timeout)\n",
    "    def reduce_spike_timeout(self, dt):\n",
    "        return self.spike_timeout.value - dt\n",
    "    \n",
    "    @crest.update(state=spike, target=\"req_electricity_out\")\n",
    "    def set_spike_electricity(self, dt):\n",
    "        return 1000\n",
    "    \n",
    "    @crest.update(state=off, target=\"req_electricity_out\")\n",
    "    def update_req_off(self, dt):\n",
    "        return 0\n",
    "    \n",
    "    @crest.update(state=on, target=\"req_electricity_out\")\n",
    "    def update_req_on(self, dt):\n",
    "        return self.need_watt.value\n",
    "\n",
    "# ui.plot(EmergencyLamp())\n",
    "# crest.Validator(EmergencyLamp()).check_all()"
   ]
  }
 ],
 "metadata": {
  "kernelspec": {
   "display_name": "Python 3",
   "language": "python",
   "name": "python3"
  },
  "language_info": {
   "codemirror_mode": {
    "name": "ipython",
    "version": 3
   },
   "file_extension": ".py",
   "mimetype": "text/x-python",
   "name": "python",
   "nbconvert_exporter": "python",
   "pygments_lexer": "ipython3",
   "version": "3.7.3"
  }
 },
 "nbformat": 4,
 "nbformat_minor": 2
}
