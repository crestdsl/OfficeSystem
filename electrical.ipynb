{
 "cells": [
  {
   "cell_type": "code",
   "execution_count": 10,
   "metadata": {},
   "outputs": [],
   "source": [
    "import sys\n",
    "sys.path.append('../')"
   ]
  },
  {
   "cell_type": "code",
   "execution_count": 1,
   "metadata": {},
   "outputs": [],
   "source": [
    "# %%capture\n",
    "%run common.ipynb\n",
    "# importnb allows us to load the code from other notebooks\n",
    "# from importnb import Notebook\n",
    "# with Notebook():\n",
    "#     import OfficeAutomation.common as common"
   ]
  },
  {
   "cell_type": "code",
   "execution_count": 12,
   "metadata": {},
   "outputs": [],
   "source": [
    "import crestdsl.model as crest\n",
    "import crestdsl.model.api as api\n",
    "import crestdsl.simulation as crestsim\n",
    "import crestdsl.ui as ui"
   ]
  },
  {
   "cell_type": "code",
   "execution_count": 16,
   "metadata": {
    "code_folding": [
     35,
     42,
     90
    ],
    "scrolled": false
   },
   "outputs": [],
   "source": [
    "class Splitter(crest.Entity, ElectricalDevice):\n",
    "    normal = current = crest.State()\n",
    "    no_power = crest.State()\n",
    "    \n",
    "    \n",
    "    req_sum = crest.Local(res_electricity, value=0)\n",
    "    req_sum_to_req = crest.Influence(source=req_sum, target=\"req_electricity_out\")\n",
    "    \n",
    "    # surcharge \n",
    "    surcharge = crest.Output(resource=res_bool, value=False)\n",
    "    @crest.update(state=normal, target=surcharge)\n",
    "    def update_surcharge_normal(self, dt):\n",
    "        return False\n",
    "    \n",
    "    @crest.update(state=no_power, target=surcharge)\n",
    "    def update_surcharge_no_power(self, dt):\n",
    "        return True\n",
    "    \n",
    "    \n",
    "    @crest.transition(source=normal, target=no_power)\n",
    "    def to_no_power(self):\n",
    "        return self.electricity_in.value < self.req_sum.value\n",
    "\n",
    "    @crest.transition(source=no_power, target=normal)\n",
    "    def to_normal(self):\n",
    "        return self.electricity_in.value >= self.req_sum.value\n",
    "\n",
    "    def connect_devices(self, devices):\n",
    "        for dev in devices:\n",
    "            api.add(self, f\"elec_{dev._name}\", crest.Output(res_electricity, value=0))\n",
    "            api.add(self, f\"req_{dev._name}\", crest.Input(res_electricity, value=0))\n",
    "            \n",
    "            dev_after_init = getattr(self._parent, dev._name)\n",
    "            api.add(self._parent, f\"connect_elec_{self._name}_to_{dev._name}\", crest.Influence(source=f\"{self._name}.elec_{dev._name}\", target=dev_after_init.electricity_in))\n",
    "            api.add(self._parent, f\"connect_{dev._name}_to_req_{self._name}\", crest.Influence(source=dev_after_init.req_electricity_out, target=f\"{self._name}.req_{dev._name}\"))\n",
    "            api.add(self, f\"update_{dev._name}_elec_normal\", crest.Update(state=self.normal, target=f\"elec_{dev._name}\", function=f\"(lambda self, dt: self.req_{dev._name}.value)\"))\n",
    "            api.add(self, f\"update_{dev._name}_elec_nopower\", crest.Update(state=self.no_power, target=f\"elec_{dev._name}\", function=f\"(lambda self, dt: 0)\"))\n",
    "        \n",
    "        if len(devices) > 0:\n",
    "            sum_of_reqs_src = \" + \".join([f\"self.req_{dev._name}.value\" for dev in devices])\n",
    "            update_req_src = f\"(lambda self, dt: {sum_of_reqs_src} )\"\n",
    "            self.update_req = crest.Update(state=self.normal, target=self.req_sum, function=update_req_src)\n",
    "            self.update_req_nopower = crest.Update(state=self.no_power, target=self.req_sum, function=update_req_src)\n",
    "\n",
    "\n",
    "# ui.plot(Splitter())"
   ]
  },
  {
   "cell_type": "code",
   "execution_count": null,
   "metadata": {},
   "outputs": [],
   "source": []
  }
 ],
 "metadata": {
  "kernelspec": {
   "display_name": "Python 3",
   "language": "python",
   "name": "python3"
  },
  "language_info": {
   "codemirror_mode": {
    "name": "ipython",
    "version": 3
   },
   "file_extension": ".py",
   "mimetype": "text/x-python",
   "name": "python",
   "nbconvert_exporter": "python",
   "pygments_lexer": "ipython3",
   "version": "3.7.3"
  }
 },
 "nbformat": 4,
 "nbformat_minor": 2
}
