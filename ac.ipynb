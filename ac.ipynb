{
 "cells": [
  {
   "cell_type": "code",
   "execution_count": 1,
   "metadata": {},
   "outputs": [],
   "source": [
    "import sys\n",
    "sys.path.append('../')"
   ]
  },
  {
   "cell_type": "code",
   "execution_count": 9,
   "metadata": {},
   "outputs": [
    {
     "name": "stderr",
     "output_type": "stream",
     "text": [
      "ERROR:root--File `'OfficeAutomation/common.ipynb.py'` not found.\n"
     ]
    }
   ],
   "source": [
    "# %%capture\n",
    "%run common.ipynb\n",
    "# importnb allows us to load the code from other notebooks\n",
    "# from importnb import Notebook\n",
    "# with Notebook():\n",
    "#     import OfficeAutomation.common as common\n",
    "#     import OfficeAutomation.electrical as electrical"
   ]
  },
  {
   "cell_type": "code",
   "execution_count": 3,
   "metadata": {},
   "outputs": [],
   "source": [
    "import crestdsl.model as crest\n",
    "import crestdsl.simulation as crestsim\n",
    "import crestdsl.ui as ui"
   ]
  },
  {
   "cell_type": "code",
   "execution_count": 8,
   "metadata": {
    "code_folding": [],
    "scrolled": false
   },
   "outputs": [],
   "source": [
    "@crest.dependency(source=\"req_electricity_out\", target=\"setting_in\")\n",
    "class ACUnit(crest.Entity, ElectricalDevice):\n",
    "    \"\"\"\n",
    "    Setting influences how many watts are needed for operation.\n",
    "    In turn, need_watt influences req_electricity_out (i.e. how much electricty should be drawn)\n",
    "    \n",
    "    The state is determined by the setting and whether the AC has enough electricity.\n",
    "    The unit is off, if there isn't enough electricity.\n",
    "    \n",
    "    The output is determined by the state the AC is in \n",
    "    -> it's the need_watt (i.e. how much we request) * efficiency factor.\n",
    "    \n",
    "    Except when the AC is off. Then the output is always zero. \n",
    "    -> This is because AC could be e.g. in state two and set need_watt to draw 700 watt but there is not enough going in.\n",
    "    -> then the output should still be 0.\n",
    "    \"\"\"\n",
    "    setting_in = crest.Input(res_four_switch, value=\"off\")\n",
    "    output = crest.Output(res_heat_energy, value=0)\n",
    "    need_watt = crest.Local(res_electricity, value=100)\n",
    "    \n",
    "    # fan settings\n",
    "    off = current = crest.State()\n",
    "    one = crest.State()\n",
    "    two = crest.State()\n",
    "    three = crest.State()\n",
    "\n",
    "    trans_to_off = crest.Transition(source=[one,two,three], target=off, guard=(lambda self: self.setting_in.value == \"off\" or self.electricity_in.value < self.req_electricity_out.value))\n",
    "    trans_to_one = crest.Transition(source=[off,two,three], target=one, guard=(lambda self: self.setting_in.value == \"one\" and self.electricity_in.value >= self.req_electricity_out.value))\n",
    "    trans_to_two = crest.Transition(source=[off,one,three], target=two, guard=(lambda self: self.setting_in.value == \"two\" and self.electricity_in.value >= self.req_electricity_out.value))\n",
    "    trans_to_three = crest.Transition(source=[off,one,two], target=three, guard=(lambda self: self.setting_in.value == \"three\" and self.electricity_in.value >= self.req_electricity_out.value))\n",
    "    \n",
    "    update_off = crest.Update(state=off, target=output, function=(lambda self, dt: 0))\n",
    "    update_one = crest.Update(state=one, target=output, function=(lambda self, dt: self.need_watt.value*0.35))\n",
    "    update_two = crest.Update(state=two, target=output, function=(lambda self, dt: self.need_watt.value*0.35))\n",
    "    update_three = crest.Update(state=three, target=output, function=(lambda self, dt: self.need_watt.value*0.35))\n",
    "\n",
    "\n",
    "    influence_need_to_req = crest.Influence(source=need_watt, target=\"req_electricity_out\")\n",
    "    \n",
    "    @crest.influence(source=setting_in, target=need_watt)\n",
    "    def influence_need_watt(value):\n",
    "        if value == \"off\":\n",
    "            return 0\n",
    "        elif value == \"one\":\n",
    "            return 500\n",
    "        elif value == \"two\":\n",
    "            return 700\n",
    "        elif value == \"three\":\n",
    "            return 900\n",
    "        else:\n",
    "            return 0\n"
   ]
  }
 ],
 "metadata": {
  "kernelspec": {
   "display_name": "Python 3",
   "language": "python",
   "name": "python3"
  },
  "language_info": {
   "codemirror_mode": {
    "name": "ipython",
    "version": 3
   },
   "file_extension": ".py",
   "mimetype": "text/x-python",
   "name": "python",
   "nbconvert_exporter": "python",
   "pygments_lexer": "ipython3",
   "version": "3.7.3"
  }
 },
 "nbformat": 4,
 "nbformat_minor": 2
}
