{
 "cells": [
  {
   "cell_type": "code",
   "execution_count": 1,
   "metadata": {},
   "outputs": [],
   "source": [
    "import sys\n",
    "sys.path.append('../../')"
   ]
  },
  {
   "cell_type": "code",
   "execution_count": 2,
   "metadata": {},
   "outputs": [],
   "source": [
    "# importnb allows us to load the code from other notebooks\n",
    "from importnb import Notebook\n",
    "with Notebook():\n",
    "    import OfficeAutomation.common as common\n",
    "    import OfficeAutomation.ac as ac"
   ]
  },
  {
   "cell_type": "code",
   "execution_count": 3,
   "metadata": {},
   "outputs": [],
   "source": [
    "import crestdsl.model as crest\n",
    "import crestdsl.simulation as crestsim\n",
    "import crestdsl.ui as ui"
   ]
  },
  {
   "cell_type": "code",
   "execution_count": 8,
   "metadata": {},
   "outputs": [
    {
     "name": "stderr",
     "output_type": "stream",
     "text": [
      "...\n",
      "----------------------------------------------------------------------\n",
      "Ran 3 tests in 0.745s\n",
      "\n",
      "OK\n"
     ]
    },
    {
     "data": {
      "text/plain": [
       "<unittest.runner.TextTestResult run=3 errors=0 failures=0>"
      ]
     },
     "execution_count": 8,
     "metadata": {},
     "output_type": "execute_result"
    }
   ],
   "source": [
    "class ACUnitTest(common.TestClass):\n",
    "        \n",
    "    def test_setting_influence_need_watt(self):\n",
    "        acunit = ac.ACUnit()\n",
    "        sim = crestsim.Simulator(acunit)\n",
    "        \n",
    "        for setting, wattage in [(\"off\", 0), (\"one\", 500), (\"two\", 700), (\"three\", 900)]:\n",
    "            with self.subTest(ac_setting=setting, expected_watt=wattage):\n",
    "                acunit.setting_in.value = setting\n",
    "                sim.stabilise()\n",
    "                self.assertEqual(acunit.need_watt.value, wattage)\n",
    "\n",
    "    def test_fan_setting_and_electricity_gives_correct_state(self):\n",
    "        acunit = ac.ACUnit()\n",
    "        sim = crestsim.Simulator(acunit)\n",
    "        \n",
    "        \"(setting, electricity, expected_state)\"\n",
    "        params = [\n",
    "            (\"off\", 0, acunit.off),\n",
    "            (\"off\", 1000, acunit.off),\n",
    "            (\"one\", 0, acunit.off),\n",
    "            (\"one\", 500, acunit.one), # 35 % efficiency\n",
    "            (\"one\", 1000, acunit.one),\n",
    "            (\"two\", 0, acunit.off),\n",
    "            (\"two\", 500, acunit.off),\n",
    "            (\"two\", 700, acunit.two), # 35 % efficiency\n",
    "            (\"two\", 1000, acunit.two),\n",
    "            (\"three\", 0, acunit.off),\n",
    "            (\"three\", 700, acunit.off),\n",
    "            (\"three\", 900, acunit.three), # 35 % efficiency\n",
    "            (\"three\", 1000, acunit.three),\n",
    "        ]\n",
    "        \n",
    "        for setting, wattage, state in params:\n",
    "            with self.subTest(ac_setting=setting, input_electricity=wattage, expected_state=state._name):\n",
    "                acunit.setting_in.value = setting\n",
    "                acunit.electricity_in.value = wattage\n",
    "                sim.stabilise()\n",
    "                sim.advance(1)\n",
    "                self.assertEqual(acunit.current, state, f\"Current state '{acunit.current._name}', expected state '{state._name}'\")\n",
    "        \n",
    "                \n",
    "    def test_fan_setting_and_electricity_gives_correct_output(self):\n",
    "        acunit = ac.ACUnit()\n",
    "        sim = crestsim.Simulator(acunit)\n",
    "        \n",
    "        \"(setting, electricity, expected_output)\"\n",
    "        params = [\n",
    "            (\"off\", 0, 0),\n",
    "            (\"off\", 1000, 0),\n",
    "            (\"one\", 0, 0),\n",
    "            (\"one\", 500, 500*0.35), # 35 % efficiency\n",
    "            (\"one\", 1000, 500*0.35),\n",
    "            (\"two\", 0, 0),\n",
    "            (\"two\", 500, 0),\n",
    "            (\"two\", 700, 700*0.35), # 35 % efficiency\n",
    "            (\"two\", 1000, 700*0.35),\n",
    "            (\"three\", 0, 0),\n",
    "            (\"three\", 700, 0),\n",
    "            (\"three\", 900, 900*0.35), # 35 % efficiency\n",
    "            (\"three\", 1000, 900*0.35),\n",
    "        ]\n",
    "        \n",
    "        for setting, wattage, expected_output in params:\n",
    "            with self.subTest(ac_setting=setting, input_electricity=wattage, expected_output=expected_output):\n",
    "                acunit.setting_in.value = setting\n",
    "                acunit.electricity_in.value = wattage\n",
    "                sim.stabilise()\n",
    "                sim.advance(1)\n",
    "                self.assertEqual(acunit.output.value, expected_output)\n",
    "        \n",
    "        \n",
    "# ACUnitTest.runall()    \n",
    "# crest.Validator(ACUnit()).check_all()\n",
    "\n",
    "# ui.plot(ACUnit())"
   ]
  },
  {
   "cell_type": "code",
   "execution_count": null,
   "metadata": {},
   "outputs": [],
   "source": []
  }
 ],
 "metadata": {
  "kernelspec": {
   "display_name": "Python 3",
   "language": "python",
   "name": "python3"
  },
  "language_info": {
   "codemirror_mode": {
    "name": "ipython",
    "version": 3
   },
   "file_extension": ".py",
   "mimetype": "text/x-python",
   "name": "python",
   "nbconvert_exporter": "python",
   "pygments_lexer": "ipython3",
   "version": "3.7.3"
  }
 },
 "nbformat": 4,
 "nbformat_minor": 2
}
