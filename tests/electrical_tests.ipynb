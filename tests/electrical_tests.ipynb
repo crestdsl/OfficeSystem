{
 "cells": [
  {
   "cell_type": "code",
   "execution_count": 1,
   "metadata": {},
   "outputs": [],
   "source": [
    "import sys\n",
    "sys.path.append('../../')"
   ]
  },
  {
   "cell_type": "code",
   "execution_count": 2,
   "metadata": {},
   "outputs": [],
   "source": [
    "# importnb allows us to load the code from other notebooks\n",
    "from importnb import Notebook\n",
    "with Notebook():\n",
    "    import OfficeAutomation.common as common  # will probably become OfficeAutomation.common\n",
    "    import OfficeAutomation.lamps as lamps\n",
    "    import OfficeAutomation.electrical as electrical"
   ]
  },
  {
   "cell_type": "code",
   "execution_count": 3,
   "metadata": {},
   "outputs": [],
   "source": [
    "import crestdsl.model as crest\n",
    "import crestdsl.simulation as crestsim\n",
    "import crestdsl.ui as ui"
   ]
  },
  {
   "cell_type": "code",
   "execution_count": 5,
   "metadata": {},
   "outputs": [],
   "source": [
    "class SplitterTest(common.TestClass):\n",
    "        \n",
    "    def test_connect_devices_influence_req_electricity(self):\n",
    "        class Container(crest.Entity):\n",
    "            state = current = crest.State()\n",
    "            lamp1 = lamps.Lamp()\n",
    "            lamp2 = lamps.Lamp()\n",
    "            splitter = electrical.Splitter()\n",
    "            \n",
    "            def __init__(self):\n",
    "                self.splitter.connect_devices([self.lamp1, self.lamp2])\n",
    "        \n",
    "        system = Container()\n",
    "        for lamp in [system.lamp1, system.lamp2]:\n",
    "            lamp.need_watt.value = 100\n",
    "            lamp.switch_in.value = \"on\"\n",
    "            lamp.current = lamp.on\n",
    "        sim = crestsim.Simulator(system)\n",
    "        sim.stabilise()\n",
    "        \n",
    "        self.assertEqual(system.lamp1.req_electricity_out.value, 100)\n",
    "        self.assertEqual(system.lamp2.req_electricity_out.value, 100)\n",
    "        self.assertEqual(system.splitter.req_electricity_out.value, 200)\n",
    "        \n",
    "    def test_connect_devices_sets_electricity_of_devices(self):\n",
    "        class Container(crest.Entity):\n",
    "            state = current = crest.State()\n",
    "            lamp1 = lamps.Lamp()\n",
    "            lamp2 = lamps.Lamp()\n",
    "            splitter = electrical.Splitter()\n",
    "            \n",
    "            def __init__(self):\n",
    "                self.splitter.connect_devices([self.lamp1, self.lamp2])\n",
    "        \n",
    "        system = Container()\n",
    "        for lamp in [system.lamp1, system.lamp2]:\n",
    "            lamp.need_watt.value = 100\n",
    "            lamp.switch_in.value = \"on\"\n",
    "            lamp.current = lamp.on\n",
    "            \n",
    "        system.splitter.electricity_in.value = 300\n",
    "        \n",
    "        sim = crestsim.Simulator(system)\n",
    "        sim.stabilise()\n",
    "        \n",
    "        self.assertEqual(system.splitter.elec_lamp1.value, 100)\n",
    "        self.assertEqual(system.splitter.elec_lamp2.value, 100)\n",
    "        self.assertEqual(system.lamp1.electricity_in.value, 100)\n",
    "        self.assertEqual(system.lamp2.electricity_in.value, 100)\n",
    "        \n",
    "    def test_connect_devices_not_enough_electricity_sets_electricity_of_devices_zero(self):\n",
    "        class Container(crest.Entity):\n",
    "            state = current = crest.State()\n",
    "            lamp1 = lamps.Lamp()\n",
    "            lamp2 = lamps.Lamp()\n",
    "            splitter = electrical.Splitter()\n",
    "            \n",
    "            def __init__(self):\n",
    "                self.splitter.connect_devices([self.lamp1, self.lamp2])\n",
    "        \n",
    "        system = Container()\n",
    "        for lamp in [system.lamp1, system.lamp2]:\n",
    "            lamp.need_watt.value = 100\n",
    "            lamp.switch_in.value = \"on\"\n",
    "            lamp.current = lamp.on\n",
    "            \n",
    "        system.splitter.electricity_in.value = 100\n",
    "        \n",
    "        sim = crestsim.Simulator(system)\n",
    "        sim.stabilise()\n",
    "        \n",
    "        self.assertEqual(system.splitter.elec_lamp1.value, 0)\n",
    "        self.assertEqual(system.splitter.elec_lamp2.value, 0)\n",
    "        self.assertEqual(system.lamp1.electricity_in.value, 0)\n",
    "        self.assertEqual(system.lamp2.electricity_in.value, 0)\n",
    "        \n",
    "# SplitterTest.runall()"
   ]
  }
 ],
 "metadata": {
  "kernelspec": {
   "display_name": "Python 3",
   "language": "python",
   "name": "python3"
  },
  "language_info": {
   "codemirror_mode": {
    "name": "ipython",
    "version": 3
   },
   "file_extension": ".py",
   "mimetype": "text/x-python",
   "name": "python",
   "nbconvert_exporter": "python",
   "pygments_lexer": "ipython3",
   "version": "3.7.3"
  }
 },
 "nbformat": 4,
 "nbformat_minor": 2
}
